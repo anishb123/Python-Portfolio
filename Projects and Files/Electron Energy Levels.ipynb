{
 "cells": [
  {
   "cell_type": "markdown",
   "metadata": {},
   "source": [
    "# \"Electron Energy Levels\" \n",
    "\n",
    "The goal of this project was to use the equation for electron levels in an atom and print out the values according to both the atomic number and the quantum number \"n\""
   ]
  },
  {
   "cell_type": "markdown",
   "metadata": {},
   "source": [
    "The energy levels of an electron are estimated by the following:"
   ]
  },
  {
   "cell_type": "markdown",
   "metadata": {},
   "source": [
    "$$E_n=-(13.6\\ \\mbox{eV})\\,\\frac{Z^2}{n^2}\\,,$$"
   ]
  },
  {
   "cell_type": "markdown",
   "metadata": {},
   "source": [
    "The first task to accomplish was actually inputting the function for further use. It takes values of Z and n and returns E for the energy associated with the inputted levels. The units of E are always going to be in eV (electron volts). \n",
    "\n",
    "\"math\" was the only import required here"
   ]
  },
  {
   "cell_type": "code",
   "execution_count": 17,
   "metadata": {},
   "outputs": [],
   "source": [
    "import math\n",
    "\n",
    "def energy(Z, n):\n",
    "    E = (-13.6)*(Z**2/n**2)\n",
    "    return E\n"
   ]
  },
  {
   "cell_type": "markdown",
   "metadata": {},
   "source": [
    "Next step was to create an assertion error inside the previously made function so that if $Z$ or $n$ were not positive integers, the program would detect this and raise the error. This is simply a modification of the previous function. "
   ]
  },
  {
   "cell_type": "code",
   "execution_count": 18,
   "metadata": {},
   "outputs": [],
   "source": [
    "\n",
    "def energy(Z, n):\n",
    "    if Z <= 0 or n <= 0:\n",
    "        raise AssertionError(\"Only positive numbers are allowed!\")\n",
    "    if Z != int(Z) or n != int(n):\n",
    "        raise AssertionError(\"Only positive numbers are allowed!\")\n",
    "    \n",
    "    E = (-13.6)*(Z**2/n**2)\n",
    "    \n",
    "    return E\n"
   ]
  },
  {
   "cell_type": "markdown",
   "metadata": {},
   "source": [
    "Now a new function is needed to:\n",
    "\n",
    "1. Be able to take in input for values of Z and n (a minimum and maximum value for both)\n",
    "2. Print out what the resulting energy levels are for each input. \n",
    "\n",
    "As an example, a minimum and maximum value for Z was chosen to be 2 and 3, respectively. The n values were chosen to be 1 and 4. \n",
    "\n",
    "This function needs the previous function for energy to operate. \n",
    "\n",
    "Of course, this is just an example. with this function, any values (as long as they are positive integers) could be used. \n"
   ]
  },
  {
   "cell_type": "code",
   "execution_count": 19,
   "metadata": {},
   "outputs": [
    {
     "name": "stdout",
     "output_type": "stream",
     "text": [
      "  -54.4 -13.6 -6.044444444444444 -3.4\n",
      "  -122.39999999999999 -30.599999999999998 -13.6 -7.6499999999999995\n"
     ]
    }
   ],
   "source": [
    "import math\n",
    "\n",
    "def levels(Zmin, Zmax, nmin, nmax):\n",
    "    def energy(Z, n):\n",
    "        if Z <= 0 or n <= 0:\n",
    "            raise AssertionError(\"Only positive numbers are allowed!\")\n",
    "        if Z != int(Z) or n != int(n):\n",
    "            raise AssertionError(\"Only positive numbers are allowed!\")\n",
    "    \n",
    "        E = (-13.6)*(Z**2/n**2)\n",
    "        \n",
    "        return E\n",
    "    \n",
    "    \n",
    "    for Z in range(Zmin, Zmax + 1):\n",
    "        line = str(\" \")\n",
    "        for n1 in range(nmin, nmax + 1):\n",
    "            line += \" \" + str(energy(Z, n1))\n",
    "        print(line)\n",
    "        \n",
    "levels(2, 3, 1, 4)"
   ]
  },
  {
   "cell_type": "markdown",
   "metadata": {},
   "source": [
    "The result of this function does not exactly look neat so the logical next step was to modify this new function print out a decent table showing all the energy values. This was done by simply python string formatting. New values for all for inputs were used to show that the code does work for different input values. "
   ]
  },
  {
   "cell_type": "code",
   "execution_count": 20,
   "metadata": {},
   "outputs": [
    {
     "name": "stdout",
     "output_type": "stream",
     "text": [
      "z\t   n = 2\t   n = 3\t   n = 4\t   n = 5\t   n = 6\n",
      "4\t  -54.40\t  -24.18\t  -13.60\t   -8.70\t   -6.04\n",
      "5\t  -85.00\t  -37.78\t  -21.25\t  -13.60\t   -9.44\n",
      "6\t -122.40\t  -54.40\t  -30.60\t  -19.58\t  -13.60\n",
      "7\t -166.60\t  -74.04\t  -41.65\t  -26.66\t  -18.51\n",
      "8\t -217.60\t  -96.71\t  -54.40\t  -34.82\t  -24.18\n",
      "9\t -275.40\t -122.40\t  -68.85\t  -44.06\t  -30.60\n"
     ]
    }
   ],
   "source": [
    "def levels(Zmin, Zmax, nmin, nmax):\n",
    "    mytable = \"\"\n",
    "    A = \"z\"\n",
    "    for n in range(nmin, nmax + 1):\n",
    "        A += \"\\t\" + '{:>8}'.format(\"n = \" + str(n))\n",
    "    print(A)\n",
    "    mytable = A + '\\n'\n",
    "    \n",
    "    for Z in range(Zmin, Zmax + 1):\n",
    "        line = str(Z)\n",
    "        for n in range(nmin, nmax + 1):\n",
    "            line += \"\\t\" + '{:>8}'.format(format(energy(Z, n),'0.2f'))\n",
    "        print(line)\n",
    "        mytable += line + '\\n'\n",
    "    return mytable\n",
    "    \n",
    "a = levels(4, 9, 2, 6)"
   ]
  },
  {
   "cell_type": "markdown",
   "metadata": {},
   "source": [
    "The last step of this project was to create a new textfile and write the values of the table into the new textfile. This was fairly straightfoward. New values for each of the 4 inputs were used once again."
   ]
  },
  {
   "cell_type": "code",
   "execution_count": 21,
   "metadata": {},
   "outputs": [
    {
     "name": "stdout",
     "output_type": "stream",
     "text": [
      "z\t   n = 1\t   n = 2\t   n = 3\t   n = 4\t   n = 5\t   n = 6\t   n = 7\n",
      "1\t  -13.60\t   -3.40\t   -1.51\t   -0.85\t   -0.54\t   -0.38\t   -0.28\n",
      "2\t  -54.40\t  -13.60\t   -6.04\t   -3.40\t   -2.18\t   -1.51\t   -1.11\n",
      "3\t -122.40\t  -30.60\t  -13.60\t   -7.65\t   -4.90\t   -3.40\t   -2.50\n",
      "4\t -217.60\t  -54.40\t  -24.18\t  -13.60\t   -8.70\t   -6.04\t   -4.44\n",
      "5\t -340.00\t  -85.00\t  -37.78\t  -21.25\t  -13.60\t   -9.44\t   -6.94\n",
      "6\t -489.60\t -122.40\t  -54.40\t  -30.60\t  -19.58\t  -13.60\t   -9.99\n",
      "7\t -666.40\t -166.60\t  -74.04\t  -41.65\t  -26.66\t  -18.51\t  -13.60\n",
      "8\t -870.40\t -217.60\t  -96.71\t  -54.40\t  -34.82\t  -24.18\t  -17.76\n",
      "9\t-1101.60\t -275.40\t -122.40\t  -68.85\t  -44.06\t  -30.60\t  -22.48\n",
      "10\t-1360.00\t -340.00\t -151.11\t  -85.00\t  -54.40\t  -37.78\t  -27.76\n",
      "11\t-1645.60\t -411.40\t -182.84\t -102.85\t  -65.82\t  -45.71\t  -33.58\n",
      "12\t-1958.40\t -489.60\t -217.60\t -122.40\t  -78.34\t  -54.40\t  -39.97\n",
      "13\t-2298.40\t -574.60\t -255.38\t -143.65\t  -91.94\t  -63.84\t  -46.91\n",
      "14\t-2665.60\t -666.40\t -296.18\t -166.60\t -106.62\t  -74.04\t  -54.40\n",
      "15\t-3060.00\t -765.00\t -340.00\t -191.25\t -122.40\t  -85.00\t  -62.45\n",
      "16\t-3481.60\t -870.40\t -386.84\t -217.60\t -139.26\t  -96.71\t  -71.05\n",
      "17\t-3930.40\t -982.60\t -436.71\t -245.65\t -157.22\t -109.18\t  -80.21\n",
      "18\t-4406.40\t-1101.60\t -489.60\t -275.40\t -176.26\t -122.40\t  -89.93\n",
      "19\t-4909.60\t-1227.40\t -545.51\t -306.85\t -196.38\t -136.38\t -100.20\n",
      "20\t-5440.00\t-1360.00\t -604.44\t -340.00\t -217.60\t -151.11\t -111.02\n",
      "21\t-5997.60\t-1499.40\t -666.40\t -374.85\t -239.90\t -166.60\t -122.40\n",
      "22\t-6582.40\t-1645.60\t -731.38\t -411.40\t -263.30\t -182.84\t -134.33\n",
      "23\t-7194.40\t-1798.60\t -799.38\t -449.65\t -287.78\t -199.84\t -146.82\n",
      "24\t-7833.60\t-1958.40\t -870.40\t -489.60\t -313.34\t -217.60\t -159.87\n",
      "25\t-8500.00\t-2125.00\t -944.44\t -531.25\t -340.00\t -236.11\t -173.47\n",
      "26\t-9193.60\t-2298.40\t-1021.51\t -574.60\t -367.74\t -255.38\t -187.62\n",
      "27\t-9914.40\t-2478.60\t-1101.60\t -619.65\t -396.58\t -275.40\t -202.33\n",
      "28\t-10662.40\t-2665.60\t-1184.71\t -666.40\t -426.50\t -296.18\t -217.60\n",
      "29\t-11437.60\t-2859.40\t-1270.84\t -714.85\t -457.50\t -317.71\t -233.42\n",
      "30\t-12240.00\t-3060.00\t-1360.00\t -765.00\t -489.60\t -340.00\t -249.80\n",
      "31\t-13069.60\t-3267.40\t-1452.18\t -816.85\t -522.78\t -363.04\t -266.73\n",
      "32\t-13926.40\t-3481.60\t-1547.38\t -870.40\t -557.06\t -386.84\t -284.21\n",
      "33\t-14810.40\t-3702.60\t-1645.60\t -925.65\t -592.42\t -411.40\t -302.25\n",
      "34\t-15721.60\t-3930.40\t-1746.84\t -982.60\t -628.86\t -436.71\t -320.85\n",
      "35\t-16660.00\t-4165.00\t-1851.11\t-1041.25\t -666.40\t -462.78\t -340.00\n",
      "36\t-17625.60\t-4406.40\t-1958.40\t-1101.60\t -705.02\t -489.60\t -359.71\n",
      "37\t-18618.40\t-4654.60\t-2068.71\t-1163.65\t -744.74\t -517.18\t -379.97\n",
      "38\t-19638.40\t-4909.60\t-2182.04\t-1227.40\t -785.54\t -545.51\t -400.78\n",
      "39\t-20685.60\t-5171.40\t-2298.40\t-1292.85\t -827.42\t -574.60\t -422.16\n",
      "40\t-21760.00\t-5440.00\t-2417.78\t-1360.00\t -870.40\t -604.44\t -444.08\n",
      "41\t-22861.60\t-5715.40\t-2540.18\t-1428.85\t -914.46\t -635.04\t -466.56\n",
      "42\t-23990.40\t-5997.60\t-2665.60\t-1499.40\t -959.62\t -666.40\t -489.60\n",
      "43\t-25146.40\t-6286.60\t-2794.04\t-1571.65\t-1005.86\t -698.51\t -513.19\n",
      "44\t-26329.60\t-6582.40\t-2925.51\t-1645.60\t-1053.18\t -731.38\t -537.34\n",
      "45\t-27540.00\t-6885.00\t-3060.00\t-1721.25\t-1101.60\t -765.00\t -562.04\n",
      "46\t-28777.60\t-7194.40\t-3197.51\t-1798.60\t-1151.10\t -799.38\t -587.30\n",
      "47\t-30042.40\t-7510.60\t-3338.04\t-1877.65\t-1201.70\t -834.51\t -613.11\n",
      "48\t-31334.40\t-7833.60\t-3481.60\t-1958.40\t-1253.38\t -870.40\t -639.48\n",
      "49\t-32653.60\t-8163.40\t-3628.18\t-2040.85\t-1306.14\t -907.04\t -666.40\n",
      "50\t-34000.00\t-8500.00\t-3777.78\t-2125.00\t-1360.00\t -944.44\t -693.88\n",
      "51\t-35373.60\t-8843.40\t-3930.40\t-2210.85\t-1414.94\t -982.60\t -721.91\n",
      "52\t-36774.40\t-9193.60\t-4086.04\t-2298.40\t-1470.98\t-1021.51\t -750.50\n",
      "53\t-38202.40\t-9550.60\t-4244.71\t-2387.65\t-1528.10\t-1061.18\t -779.64\n",
      "54\t-39657.60\t-9914.40\t-4406.40\t-2478.60\t-1586.30\t-1101.60\t -809.34\n",
      "55\t-41140.00\t-10285.00\t-4571.11\t-2571.25\t-1645.60\t-1142.78\t -839.59\n",
      "56\t-42649.60\t-10662.40\t-4738.84\t-2665.60\t-1705.98\t-1184.71\t -870.40\n",
      "57\t-44186.40\t-11046.60\t-4909.60\t-2761.65\t-1767.46\t-1227.40\t -901.76\n",
      "58\t-45750.40\t-11437.60\t-5083.38\t-2859.40\t-1830.02\t-1270.84\t -933.68\n",
      "59\t-47341.60\t-11835.40\t-5260.18\t-2958.85\t-1893.66\t-1315.04\t -966.16\n",
      "60\t-48960.00\t-12240.00\t-5440.00\t-3060.00\t-1958.40\t-1360.00\t -999.18\n",
      "61\t-50605.60\t-12651.40\t-5622.84\t-3162.85\t-2024.22\t-1405.71\t-1032.77\n",
      "62\t-52278.40\t-13069.60\t-5808.71\t-3267.40\t-2091.14\t-1452.18\t-1066.91\n",
      "63\t-53978.40\t-13494.60\t-5997.60\t-3373.65\t-2159.14\t-1499.40\t-1101.60\n",
      "64\t-55705.60\t-13926.40\t-6189.51\t-3481.60\t-2228.22\t-1547.38\t-1136.85\n",
      "65\t-57460.00\t-14365.00\t-6384.44\t-3591.25\t-2298.40\t-1596.11\t-1172.65\n",
      "66\t-59241.60\t-14810.40\t-6582.40\t-3702.60\t-2369.66\t-1645.60\t-1209.01\n",
      "67\t-61050.40\t-15262.60\t-6783.38\t-3815.65\t-2442.02\t-1695.84\t-1245.93\n",
      "68\t-62886.40\t-15721.60\t-6987.38\t-3930.40\t-2515.46\t-1746.84\t-1283.40\n",
      "69\t-64749.60\t-16187.40\t-7194.40\t-4046.85\t-2589.98\t-1798.60\t-1321.42\n",
      "70\t-66640.00\t-16660.00\t-7404.44\t-4165.00\t-2665.60\t-1851.11\t-1360.00\n",
      "71\t-68557.60\t-17139.40\t-7617.51\t-4284.85\t-2742.30\t-1904.38\t-1399.13\n",
      "72\t-70502.40\t-17625.60\t-7833.60\t-4406.40\t-2820.10\t-1958.40\t-1438.82\n",
      "73\t-72474.40\t-18118.60\t-8052.71\t-4529.65\t-2898.98\t-2013.18\t-1479.07\n",
      "74\t-74473.60\t-18618.40\t-8274.84\t-4654.60\t-2978.94\t-2068.71\t-1519.87\n",
      "75\t-76500.00\t-19125.00\t-8500.00\t-4781.25\t-3060.00\t-2125.00\t-1561.22\n",
      "76\t-78553.60\t-19638.40\t-8728.18\t-4909.60\t-3142.14\t-2182.04\t-1603.13\n",
      "77\t-80634.40\t-20158.60\t-8959.38\t-5039.65\t-3225.38\t-2239.84\t-1645.60\n",
      "78\t-82742.40\t-20685.60\t-9193.60\t-5171.40\t-3309.70\t-2298.40\t-1688.62\n",
      "79\t-84877.60\t-21219.40\t-9430.84\t-5304.85\t-3395.10\t-2357.71\t-1732.20\n",
      "80\t-87040.00\t-21760.00\t-9671.11\t-5440.00\t-3481.60\t-2417.78\t-1776.33\n",
      "81\t-89229.60\t-22307.40\t-9914.40\t-5576.85\t-3569.18\t-2478.60\t-1821.01\n",
      "82\t-91446.40\t-22861.60\t-10160.71\t-5715.40\t-3657.86\t-2540.18\t-1866.25\n",
      "83\t-93690.40\t-23422.60\t-10410.04\t-5855.65\t-3747.62\t-2602.51\t-1912.05\n",
      "84\t-95961.60\t-23990.40\t-10662.40\t-5997.60\t-3838.46\t-2665.60\t-1958.40\n",
      "85\t-98260.00\t-24565.00\t-10917.78\t-6141.25\t-3930.40\t-2729.44\t-2005.31\n",
      "86\t-100585.60\t-25146.40\t-11176.18\t-6286.60\t-4023.42\t-2794.04\t-2052.77\n",
      "87\t-102938.40\t-25734.60\t-11437.60\t-6433.65\t-4117.54\t-2859.40\t-2100.78\n",
      "88\t-105318.40\t-26329.60\t-11702.04\t-6582.40\t-4212.74\t-2925.51\t-2149.36\n",
      "89\t-107725.60\t-26931.40\t-11969.51\t-6732.85\t-4309.02\t-2992.38\t-2198.48\n",
      "90\t-110160.00\t-27540.00\t-12240.00\t-6885.00\t-4406.40\t-3060.00\t-2248.16\n",
      "91\t-112621.60\t-28155.40\t-12513.51\t-7038.85\t-4504.86\t-3128.38\t-2298.40\n",
      "92\t-115110.40\t-28777.60\t-12790.04\t-7194.40\t-4604.42\t-3197.51\t-2349.19\n"
     ]
    }
   ],
   "source": [
    "with open(\"energy_levels.txt\", \"w\") as file:\n",
    "    a = levels(1, 92, 1, 7)\n",
    "    file.write(a)"
   ]
  },
  {
   "cell_type": "markdown",
   "metadata": {},
   "source": [
    "# To summarize:\n",
    "\n",
    "The result of this project yields a neatly organized table for energy values from the equation for quantized energy. This can have several applications as tedious calculations are now made simple.  "
   ]
  }
 ],
 "metadata": {
  "kernelspec": {
   "display_name": "Python 3",
   "language": "python",
   "name": "python3"
  },
  "language_info": {
   "codemirror_mode": {
    "name": "ipython",
    "version": 3
   },
   "file_extension": ".py",
   "mimetype": "text/x-python",
   "name": "python",
   "nbconvert_exporter": "python",
   "pygments_lexer": "ipython3",
   "version": "3.6.6"
  }
 },
 "nbformat": 4,
 "nbformat_minor": 2
}
