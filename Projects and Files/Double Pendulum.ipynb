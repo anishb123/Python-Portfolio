{
 "cells": [
  {
   "cell_type": "markdown",
   "metadata": {},
   "source": [
    "# \"The Motion of a Double Pendulum\""
   ]
  },
  {
   "cell_type": "markdown",
   "metadata": {},
   "source": [
    "The goal of this project is to make a projection on the motion of a double pendulum as it moves through time, while also defining and solving for the differential equations that govern its motion. "
   ]
  },
  {
   "cell_type": "markdown",
   "metadata": {},
   "source": [
    "This project is going to be math intensive, so it is best to begin with defining what equations are going to be used later on. \n",
    "\n",
    "A proper definition of a double pendulum is needed. A double pendulum consists of a normal pendulum hanging from a bob connected to another pendulum hanging, which itself is connected to a bob.\n",
    "\n",
    "For simplicity:\n",
    "- Friciton is going to be ignored\n",
    "- The bobs that are at the end of the each pendulum are equal in mass\n",
    "- Pendulums have no mass\n",
    "- Pendulums have same length"
   ]
  },
  {
   "cell_type": "markdown",
   "metadata": {},
   "source": [
    "The position of the arms are given as $\\theta_1$ and $\\theta_2$. From the Lagrangian Formalism, we can derive equations of motion for this: "
   ]
  },
  {
   "cell_type": "markdown",
   "metadata": {},
   "source": [
    "$$\\begin{align}\n",
    "2\\ddot\\theta_1 + \\ddot\\theta_2 \\cos(\\theta_1-\\theta_2) &+ \\dot\\theta_2^2 \\sin(\\theta_1-\\theta_2) + 2{g\\over\\ell} \\sin\\theta_1 = 0\\,,\\\\\n",
    "\\ddot\\theta_2 + \\ddot\\theta_1 \\cos(\\theta_1-\\theta_2) &- \\dot\\theta_1^2 \\sin(\\theta_1-\\theta_2) + {g\\over\\ell} \\sin\\theta_2 = 0\\,.\n",
    "\\end{align}$$\n",
    "\n"
   ]
  },
  {
   "cell_type": "markdown",
   "metadata": {},
   "source": [
    "The resulting equations are second order differential equations in terms of both $\\theta$'s. The idea here is to turn these into first order differential equations by defining two new variables for the transition to properly occur. Here, we define them as:"
   ]
  },
  {
   "cell_type": "markdown",
   "metadata": {},
   "source": [
    "$$\\dot\\theta_1 = \\omega_1,\\qquad \\dot\\theta_2 = \\omega_2\\,.$$"
   ]
  },
  {
   "cell_type": "markdown",
   "metadata": {},
   "source": [
    "and the resulting equation becomes the following when substituted in:"
   ]
  },
  {
   "cell_type": "markdown",
   "metadata": {},
   "source": [
    "$$\\begin{align}\n",
    "2\\dot\\omega_1 + \\dot\\omega_2 \\cos(\\theta_1-\\theta_2) &+ \\omega_2^2 \\sin(\\theta_1-\\theta_2) + 2{g\\over\\ell} \\sin\\theta_1 = 0\\,,\\\\\n",
    "\\dot\\omega_2 + \\dot\\omega_1 \\cos(\\theta_1-\\theta_2) &- \\omega_1^2 \\sin(\\theta_1-\\theta_2) + {g\\over\\ell} \\sin\\theta_2 = 0\\,.\n",
    "\\end{align}$$\n"
   ]
  },
  {
   "cell_type": "markdown",
   "metadata": {},
   "source": [
    "Since these two equations are not into standard form for differnetial equations of their type, the last step here is to put the single derivative on the left-hand side of each equation. This yields:"
   ]
  },
  {
   "cell_type": "markdown",
   "metadata": {},
   "source": [
    "$$\\begin{align*}\n",
    "\\dot\\omega_1 &= - {\\omega_1^2\\sin(2\\theta_1-2\\theta_2) + 2\\omega_2^2\\sin(\\theta_1-\\theta_2) + (g/\\ell) \\bigl[ \\sin(\\theta_1-2\\theta_2) + 3 \\sin\\theta_1 \\bigr]\\over 3 - \\cos(2\\theta_1-2\\theta_2)}, \\\\ \\\\\n",
    "\\dot\\omega_2 &= {4\\omega_1^2\\sin(\\theta_1-\\theta_2) + \\omega_2^2\\sin(2\\theta_1-2\\theta_2) + 2(g/\\ell) \\bigl[ \\sin(2\\theta_1-\\theta_2) - \\sin\\theta_2 \\bigr]\\over 3 - \\cos(2\\theta_1-2\\theta_2)}.\n",
    "\\end{align*}$$\n"
   ]
  },
  {
   "cell_type": "markdown",
   "metadata": {},
   "source": [
    "Here are the other two equations from before to give us a total of four first order differential equations that define the motion of the double pendulum:"
   ]
  },
  {
   "cell_type": "markdown",
   "metadata": {},
   "source": [
    "$\\dot{\\theta}_1=\\omega_1$ and $\\dot{\\theta}_2=\\omega_2$"
   ]
  },
  {
   "cell_type": "markdown",
   "metadata": {},
   "source": [
    "Now we can use these equations for the code. we need a function that can hold these equations as the function goes through steps, approximating the value at each interval of time. "
   ]
  },
  {
   "cell_type": "markdown",
   "metadata": {},
   "source": [
    "Using what is known as the Range-Kuta Method, the function can go through the step sizes per every step of time to find x values that correspond to the functions motion through time. We define it as:"
   ]
  },
  {
   "cell_type": "code",
   "execution_count": 1,
   "metadata": {},
   "outputs": [],
   "source": [
    "def RK4(f, x, t, h):\n",
    "    k1 = h*f(x, t)\n",
    "    k2 = h*f(x + k1/2, t + h/2)\n",
    "    k3 = h*f(x + k2/2, t + h/2)\n",
    "    k4 = h*f(x + k3, t + h) #fourth order Range-Kuta\n",
    "    return x + (k1 + 2*k2 + 2*k3 + k4)/6 #returns what x should be after each step"
   ]
  },
  {
   "cell_type": "markdown",
   "metadata": {},
   "source": [
    "Rest of the imports:"
   ]
  },
  {
   "cell_type": "code",
   "execution_count": 2,
   "metadata": {},
   "outputs": [],
   "source": [
    "import numpy as np\n",
    "import matplotlib.pyplot as plt\n",
    "import ipywidgets as widgets\n",
    "import IPython.display as display"
   ]
  },
  {
   "cell_type": "code",
   "execution_count": 3,
   "metadata": {},
   "outputs": [],
   "source": [
    "l = 0.4\n",
    "g = 9.8\n",
    "\n",
    "def f(r, t):\n",
    "    th1, th2, w1, w2 = r #unpacking \n",
    "    fth1 = w1\n",
    "    fth2 = w2 \n",
    "    fw1 = - (w1**2*np.sin(2*th1-2*th2) + 2*w2**2*np.sin(th1-th2) + (g/l)*(np.sin(th1-2*th2)+3*np.sin(th1)))/(3 - np.cos(2*th1-2*th2))\n",
    "    fw2 = (4*w1**2*np.sin(th1-th2) + w2**2*np.sin(2*th1-2*th2) + 2*(g/l)*(np.sin(2*th1-th2)-np.sin(th2)))/(3-np.cos(2*th1-2*th2))\n",
    "    return np.array([fth1, fth2, fw1, fw2]) #function returns arrays for all four functions\n",
    "    \n",
    "h = 0.002 #defined step size \n",
    "t_values = np.arange(0, 60, h)\n",
    "th1, w1 = np.pi/2, 0\n",
    "th2, w2 = np.pi/2, 0\n",
    "th1_values = []\n",
    "th2_values = []\n",
    "w1_values = []\n",
    "w2_values = []\n",
    "\n",
    "for t in t_values: #iterate through time steps \n",
    "    th1_values.append(th1)\n",
    "    th2_values.append(th2) #adds next values for every step\n",
    "    w1_values.append(w1)\n",
    "    w2_values.append(w2)\n",
    "    r = (th1, th2, w1, w2)\n",
    "    th1, th2, w1, w2 = RK4(f, r, t, h)\n",
    "    \n",
    "th1 = np.asarray(th1_values) #arrays to hold values for each variable\n",
    "th2 = np.asarray(th2_values)\n",
    "w1 = np.asarray(w1_values)\n",
    "w2 = np.asarray(w2_values)\n"
   ]
  },
  {
   "cell_type": "markdown",
   "metadata": {},
   "source": [
    "Here's a plot of what $\\theta_1$ and $\\theta_2$ look like:"
   ]
  },
  {
   "cell_type": "code",
   "execution_count": 6,
   "metadata": {},
   "outputs": [
    {
     "data": {
      "image/png": "[encoded data removed]",
      "text/plain": [
       "<Figure size 432x288 with 1 Axes>"
      ]
     },
     "metadata": {
      "needs_background": "light"
     },
     "output_type": "display_data"
    }
   ],
   "source": [
    "plt.plot(t_values, th1, label=\"th1\")\n",
    "plt.plot(t_values, th2, label=\"th2\")\n",
    "plt.legend()\n",
    "plt.show()\n"
   ]
  },
  {
   "cell_type": "markdown",
   "metadata": {},
   "source": [
    "The mechanical energy of the double pendulum system is given the the equation:"
   ]
  },
  {
   "cell_type": "markdown",
   "metadata": {},
   "source": [
    "$$E = m\\ell^2 \\bigl[ \\omega_1^2 + \\tfrac12 \\omega_2^2 + \\omega_1\\omega_2 \\cos(\\theta_1-\\theta_2) \\bigr] - mg\\ell(2\\cos\\theta_1 + \\cos\\theta_2)\\,.$$"
   ]
  },
  {
   "cell_type": "markdown",
   "metadata": {},
   "source": [
    "The next step is to calcuate the total energy that this system has. We expect this value to be 0 as time goes on for the simple fact that energy should be conserved no matter what."
   ]
  },
  {
   "cell_type": "code",
   "execution_count": 8,
   "metadata": {},
   "outputs": [
    {
     "data": {
      "text/plain": [
       "(-1e-05, 1e-05)"
      ]
     },
     "execution_count": 8,
     "metadata": {},
     "output_type": "execute_result"
    },
    {
     "data": {
      "image/png": "[encoded data removed]",
      "text/plain": [
       "<Figure size 432x288 with 1 Axes>"
      ]
     },
     "metadata": {
      "needs_background": "light"
     },
     "output_type": "display_data"
    }
   ],
   "source": [
    "m = 1\n",
    "E = m*l**2*(w1**2 + w2**2/2 + w1*w2*np.cos(th1-th2)) - m*g*l*(2*np.cos(th1) + np.cos(th2))\n",
    "\n",
    "plt.plot(E)\n",
    "plt.xlim(0, 100)\n",
    "plt.ylim(-0.00001, 0.00001)\n"
   ]
  },
  {
   "cell_type": "markdown",
   "metadata": {},
   "source": [
    "# To Summarize:\n",
    "\n",
    "In this project, the differential equations of motion for a double pendulum were used to calculate and model its movement through time using "
   ]
  }
 ],
 "metadata": {
  "kernelspec": {
   "display_name": "Python 3",
   "language": "python",
   "name": "python3"
  },
  "language_info": {
   "codemirror_mode": {
    "name": "ipython",
    "version": 3
   },
   "file_extension": ".py",
   "mimetype": "text/x-python",
   "name": "python",
   "nbconvert_exporter": "python",
   "pygments_lexer": "ipython3",
   "version": "3.6.6"
  }
 },
 "nbformat": 4,
 "nbformat_minor": 2
}
